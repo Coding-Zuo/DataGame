{
 "cells": [
  {
   "cell_type": "code",
   "execution_count": 1,
   "metadata": {
    "execution": {
     "iopub.execute_input": "2020-11-25T02:25:19.119444Z",
     "iopub.status.busy": "2020-11-25T02:25:19.118316Z",
     "iopub.status.idle": "2020-11-25T02:25:19.127012Z",
     "shell.execute_reply": "2020-11-25T02:25:19.126357Z"
    },
    "papermill": {
     "duration": 0.04618,
     "end_time": "2020-11-25T02:25:19.127146",
     "exception": false,
     "start_time": "2020-11-25T02:25:19.080966",
     "status": "completed"
    },
    "tags": []
   },
   "outputs": [
    {
     "name": "stdout",
     "output_type": "stream",
     "text": [
      "/kaggle/input/riiid-test-answer-prediction/lectures.csv\n",
      "/kaggle/input/riiid-test-answer-prediction/example_sample_submission.csv\n",
      "/kaggle/input/riiid-test-answer-prediction/example_test.csv\n",
      "/kaggle/input/riiid-test-answer-prediction/questions.csv\n",
      "/kaggle/input/riiid-test-answer-prediction/train.csv\n",
      "/kaggle/input/riiid-test-answer-prediction/riiideducation/__init__.py\n",
      "/kaggle/input/riiid-test-answer-prediction/riiideducation/competition.cpython-37m-x86_64-linux-gnu.so\n",
      "/kaggle/input/lgbmodelno-part/model.txt\n"
     ]
    }
   ],
   "source": [
    "# This Python 3 environment comes with many helpful analytics libraries installed\n",
    "# It is defined by the kaggle/python Docker image: https://github.com/kaggle/docker-python\n",
    "# For example, here's several helpful packages to load\n",
    "\n",
    "import numpy as np # linear algebra\n",
    "import pandas as pd # data processing, CSV file I/O (e.g. pd.read_csv)\n",
    "\n",
    "# Input data files are available in the read-only \"../input/\" directory\n",
    "# For example, running this (by clicking run or pressing Shift+Enter) will list all files under the input directory\n",
    "\n",
    "import os\n",
    "for dirname, _, filenames in os.walk('/kaggle/input'):\n",
    "    for filename in filenames:\n",
    "        print(os.path.join(dirname, filename))\n",
    "\n",
    "# You can write up to 20GB to the current directory (/kaggle/working/) that gets preserved as output when you create a version using \"Save & Run All\" \n",
    "# You can also write temporary files to /kaggle/temp/, but they won't be saved outside of the current session"
   ]
  },
  {
   "cell_type": "code",
   "execution_count": 2,
   "metadata": {
    "execution": {
     "iopub.execute_input": "2020-11-25T02:25:19.188118Z",
     "iopub.status.busy": "2020-11-25T02:25:19.187251Z",
     "iopub.status.idle": "2020-11-25T02:25:20.348608Z",
     "shell.execute_reply": "2020-11-25T02:25:20.347352Z"
    },
    "papermill": {
     "duration": 1.194544,
     "end_time": "2020-11-25T02:25:20.348749",
     "exception": false,
     "start_time": "2020-11-25T02:25:19.154205",
     "status": "completed"
    },
    "tags": []
   },
   "outputs": [],
   "source": [
    "import numpy as np # linear algebra\n",
    "import pandas as pd # data processing, CSV file I/O (e.g. pd.read_csv)\n",
    "import os\n",
    "import lightgbm as lgb\n",
    "from sklearn.metrics import roc_auc_score\n",
    "from sklearn.model_selection import train_test_split\n",
    "import gc\n",
    "from collections import Counter \n",
    "import matplotlib.pyplot as plt\n",
    "import seaborn as sns"
   ]
  },
  {
   "cell_type": "code",
   "execution_count": 3,
   "metadata": {
    "execution": {
     "iopub.execute_input": "2020-11-25T02:25:20.410083Z",
     "iopub.status.busy": "2020-11-25T02:25:20.408423Z",
     "iopub.status.idle": "2020-11-25T02:25:20.410847Z",
     "shell.execute_reply": "2020-11-25T02:25:20.411385Z"
    },
    "papermill": {
     "duration": 0.03524,
     "end_time": "2020-11-25T02:25:20.411522",
     "exception": false,
     "start_time": "2020-11-25T02:25:20.376282",
     "status": "completed"
    },
    "tags": []
   },
   "outputs": [],
   "source": [
    "dir_path = '/kaggle/input/riiid-test-answer-prediction/'\n",
    "file_train = 'train.csv'\n",
    "file_questions = 'questions.csv'\n",
    "file_lectures = 'lectures.csv'"
   ]
  },
  {
   "cell_type": "code",
   "execution_count": 4,
   "metadata": {
    "execution": {
     "iopub.execute_input": "2020-11-25T02:25:20.472471Z",
     "iopub.status.busy": "2020-11-25T02:25:20.470560Z",
     "iopub.status.idle": "2020-11-25T02:25:20.475812Z",
     "shell.execute_reply": "2020-11-25T02:25:20.477508Z"
    },
    "papermill": {
     "duration": 0.039791,
     "end_time": "2020-11-25T02:25:20.477705",
     "exception": false,
     "start_time": "2020-11-25T02:25:20.437914",
     "status": "completed"
    },
    "tags": []
   },
   "outputs": [],
   "source": [
    "nrows = 200 * 10000\n",
    "# nrows = None  #选所有数据"
   ]
  },
  {
   "cell_type": "code",
   "execution_count": 5,
   "metadata": {
    "execution": {
     "iopub.execute_input": "2020-11-25T02:25:20.548607Z",
     "iopub.status.busy": "2020-11-25T02:25:20.547314Z",
     "iopub.status.idle": "2020-11-25T02:25:22.800653Z",
     "shell.execute_reply": "2020-11-25T02:25:22.799726Z"
    },
    "papermill": {
     "duration": 2.290384,
     "end_time": "2020-11-25T02:25:22.800861",
     "exception": false,
     "start_time": "2020-11-25T02:25:20.510477",
     "status": "completed"
    },
    "tags": []
   },
   "outputs": [],
   "source": [
    "train = pd.read_csv(\n",
    "                    dir_path + file_train, \n",
    "                    nrows=nrows, \n",
    "                    usecols=['row_id', 'timestamp', 'user_id', 'content_id', \n",
    "                             'content_type_id', 'task_container_id', 'answered_correctly',\n",
    "                            'prior_question_elapsed_time','prior_question_had_explanation'],\n",
    "                    dtype={\n",
    "                            'row_id': 'int64',\n",
    "                            'timestamp': 'int64',\n",
    "                            'user_id': 'int32',\n",
    "                            'content_id': 'int16',\n",
    "                            'content_type_id': 'int8',\n",
    "                            'task_container_id': 'int8',\n",
    "                            'answered_correctly': 'int8',\n",
    "                            'prior_question_elapsed_time': 'float32',\n",
    "                            'prior_question_had_explanation': 'str'\n",
    "                        }\n",
    "                   )"
   ]
  },
  {
   "cell_type": "code",
   "execution_count": 6,
   "metadata": {
    "execution": {
     "iopub.execute_input": "2020-11-25T02:25:22.888350Z",
     "iopub.status.busy": "2020-11-25T02:25:22.887326Z",
     "iopub.status.idle": "2020-11-25T02:25:22.896979Z",
     "shell.execute_reply": "2020-11-25T02:25:22.895850Z"
    },
    "papermill": {
     "duration": 0.056921,
     "end_time": "2020-11-25T02:25:22.897143",
     "exception": false,
     "start_time": "2020-11-25T02:25:22.840222",
     "status": "completed"
    },
    "tags": []
   },
   "outputs": [],
   "source": [
    "lectures = pd.read_csv(\n",
    "                       dir_path + file_lectures, \n",
    "                       usecols=['lecture_id','tag','part','type_of'], \n",
    "                       nrows=nrows,\n",
    "                       dtype={\n",
    "                           'lecture_id': 'int16',\n",
    "                           'tag': 'int16',\n",
    "                           'part': 'int8',\n",
    "                           'type_of': 'str'\n",
    "                       }\n",
    "                    )"
   ]
  },
  {
   "cell_type": "code",
   "execution_count": 7,
   "metadata": {
    "execution": {
     "iopub.execute_input": "2020-11-25T02:25:22.988576Z",
     "iopub.status.busy": "2020-11-25T02:25:22.987530Z",
     "iopub.status.idle": "2020-11-25T02:25:23.008294Z",
     "shell.execute_reply": "2020-11-25T02:25:23.007229Z"
    },
    "papermill": {
     "duration": 0.072126,
     "end_time": "2020-11-25T02:25:23.008462",
     "exception": false,
     "start_time": "2020-11-25T02:25:22.936336",
     "status": "completed"
    },
    "tags": []
   },
   "outputs": [],
   "source": [
    "questions = pd.read_csv(\n",
    "                        dir_path + file_questions, \n",
    "                        nrows=nrows,\n",
    "                        usecols=['question_id','bundle_id','part','tags'], \n",
    "                        dtype={\n",
    "                           'question_id': 'int16',\n",
    "                           'bundle_id': 'int16',\n",
    "                           'part': 'int8',\n",
    "                           'tags': 'str'\n",
    "                       }\n",
    "                    )"
   ]
  },
  {
   "cell_type": "code",
   "execution_count": 8,
   "metadata": {
    "execution": {
     "iopub.execute_input": "2020-11-25T02:25:23.097874Z",
     "iopub.status.busy": "2020-11-25T02:25:23.096809Z",
     "iopub.status.idle": "2020-11-25T02:25:23.911247Z",
     "shell.execute_reply": "2020-11-25T02:25:23.910281Z"
    },
    "papermill": {
     "duration": 0.863583,
     "end_time": "2020-11-25T02:25:23.911419",
     "exception": false,
     "start_time": "2020-11-25T02:25:23.047836",
     "status": "completed"
    },
    "tags": []
   },
   "outputs": [],
   "source": [
    "# 数据处理\n",
    "train['prior_question_had_explanation'] = train['prior_question_had_explanation'].map({'True':1,'False':0}).fillna(0).astype(np.int8)\n",
    "prior_question_elapsed_time_mean = train['prior_question_elapsed_time'].dropna().values.mean()\n",
    "train['prior_question_elapsed_time'].fillna(prior_question_elapsed_time_mean, inplace=True)\n",
    "\n",
    "lectures['type_of'] = lectures['type_of'].map({'concept':0, 'intention':1, 'solving question':2, 'starter':3})\n",
    "\n",
    "questions['tags'] = questions['tags'].fillna('1')"
   ]
  },
  {
   "cell_type": "code",
   "execution_count": 9,
   "metadata": {
    "execution": {
     "iopub.execute_input": "2020-11-25T02:25:24.022301Z",
     "iopub.status.busy": "2020-11-25T02:25:24.021161Z",
     "iopub.status.idle": "2020-11-25T02:25:24.030332Z",
     "shell.execute_reply": "2020-11-25T02:25:24.029400Z"
    },
    "papermill": {
     "duration": 0.062753,
     "end_time": "2020-11-25T02:25:24.030502",
     "exception": false,
     "start_time": "2020-11-25T02:25:23.967749",
     "status": "completed"
    },
    "tags": []
   },
   "outputs": [],
   "source": [
    "# # 压缩内存, 每个分组取最后1000条数据\n",
    "# max_num = 1000\n",
    "# train = train.groupby(['user_id']).tail(max_num)"
   ]
  },
  {
   "cell_type": "code",
   "execution_count": 10,
   "metadata": {
    "execution": {
     "iopub.execute_input": "2020-11-25T02:25:24.117979Z",
     "iopub.status.busy": "2020-11-25T02:25:24.116948Z",
     "iopub.status.idle": "2020-11-25T02:25:24.384557Z",
     "shell.execute_reply": "2020-11-25T02:25:24.385840Z"
    },
    "papermill": {
     "duration": 0.315389,
     "end_time": "2020-11-25T02:25:24.386042",
     "exception": false,
     "start_time": "2020-11-25T02:25:24.070653",
     "status": "completed"
    },
    "tags": []
   },
   "outputs": [
    {
     "data": {
      "text/plain": [
       "0"
      ]
     },
     "execution_count": 10,
     "metadata": {},
     "output_type": "execute_result"
    }
   ],
   "source": [
    "# 切分数据\n",
    "train_lectures = train[train['content_type_id']==1] \n",
    "train_questions = train[train['content_type_id']==0]\n",
    "del train\n",
    "gc.collect()"
   ]
  },
  {
   "cell_type": "code",
   "execution_count": 11,
   "metadata": {
    "execution": {
     "iopub.execute_input": "2020-11-25T02:25:24.476534Z",
     "iopub.status.busy": "2020-11-25T02:25:24.475517Z",
     "iopub.status.idle": "2020-11-25T02:25:24.951370Z",
     "shell.execute_reply": "2020-11-25T02:25:24.950744Z"
    },
    "papermill": {
     "duration": 0.525068,
     "end_time": "2020-11-25T02:25:24.951499",
     "exception": false,
     "start_time": "2020-11-25T02:25:24.426431",
     "status": "completed"
    },
    "tags": []
   },
   "outputs": [],
   "source": [
    "# 关联数据\n",
    "train_lectures_info = pd.merge(\n",
    "        left=train_lectures,\n",
    "        right=lectures,\n",
    "        how='left',\n",
    "        left_on='content_id',\n",
    "        right_on='lecture_id'\n",
    "        )\n",
    "\n",
    "train_questions_info = pd.merge(\n",
    "        left=train_questions,\n",
    "        right=questions,\n",
    "        how='left',\n",
    "        left_on='content_id',\n",
    "        right_on='question_id'\n",
    "        )"
   ]
  },
  {
   "cell_type": "code",
   "execution_count": 12,
   "metadata": {
    "execution": {
     "iopub.execute_input": "2020-11-25T02:25:25.089056Z",
     "iopub.status.busy": "2020-11-25T02:25:25.087494Z",
     "iopub.status.idle": "2020-11-25T02:25:25.091892Z",
     "shell.execute_reply": "2020-11-25T02:25:25.092451Z"
    },
    "papermill": {
     "duration": 0.112776,
     "end_time": "2020-11-25T02:25:25.092609",
     "exception": false,
     "start_time": "2020-11-25T02:25:24.979833",
     "status": "completed"
    },
    "tags": []
   },
   "outputs": [
    {
     "data": {
      "text/plain": [
       "40"
      ]
     },
     "execution_count": 12,
     "metadata": {},
     "output_type": "execute_result"
    }
   ],
   "source": [
    "del train_lectures\n",
    "del train_questions\n",
    "gc.collect()"
   ]
  },
  {
   "cell_type": "code",
   "execution_count": 13,
   "metadata": {
    "execution": {
     "iopub.execute_input": "2020-11-25T02:25:25.175648Z",
     "iopub.status.busy": "2020-11-25T02:25:25.164633Z",
     "iopub.status.idle": "2020-11-25T02:25:25.190689Z",
     "shell.execute_reply": "2020-11-25T02:25:25.190094Z"
    },
    "papermill": {
     "duration": 0.069399,
     "end_time": "2020-11-25T02:25:25.190833",
     "exception": false,
     "start_time": "2020-11-25T02:25:25.121434",
     "status": "completed"
    },
    "tags": []
   },
   "outputs": [],
   "source": [
    "# 提取特征函数\n",
    "# 文献课程类函数\n",
    "def get_lecture_basic_features__user_by_part_typeof(train_lectures_info):\n",
    "    gb_columns = ['user_id']\n",
    "    \n",
    "    train_lectures_info = pd.get_dummies(train_lectures_info, columns=['part', 'type_of'])\n",
    "    train_lectures_info.columns = train_lectures_info.columns.map(lambda column: column.replace('part', 'lectures_part'))\n",
    "    train_lectures_info.columns = train_lectures_info.columns.map(lambda column: column.replace('type', 'lectures_type'))\n",
    "    \n",
    "    part_lectures_columns = [column for column in train_lectures_info.columns if column.startswith('lectures_part')]\n",
    "    types_of_lectures_columns = [column for column in train_lectures_info.columns if column.startswith('lectures_type')]\n",
    "    \n",
    "    agg_func =  ['sum']\n",
    "    columns = part_lectures_columns + types_of_lectures_columns\n",
    "    train_lectures_info__user_by_part_typeof_f = train_lectures_info.\\\n",
    "                                groupby(gb_columns)[part_lectures_columns + types_of_lectures_columns].\\\n",
    "                                agg(agg_func).\\\n",
    "                                reset_index()\n",
    "    \n",
    "    train_lectures_info__user_by_part_typeof_f.columns = gb_columns + columns\n",
    "    dtypes = {}\n",
    "    for col in columns:\n",
    "        dtypes[col] = 'int8'\n",
    "        \n",
    "    train_lectures_info__user_by_part_typeof_f = train_lectures_info__user_by_part_typeof_f.astype(dtypes)\n",
    "    \n",
    "    return train_lectures_info__user_by_part_typeof_f\n",
    "\n",
    "\n",
    "\n",
    "# 问答类函数\n",
    "def get_questions_basic_features__user(train_questions_info):\n",
    "    gb_columns = ['user_id']\n",
    "    gb_suffixes = 'question_'+'_'.join(gb_columns)\n",
    "    train_questions_info['lag'] = train_questions_info.groupby('user_id')['answered_correctly'].shift()\n",
    "    agg_func = {\n",
    "        'answered_correctly': ['mean','count','std','sum'], #每个用户的平均精度mean, 回答了多少问题 \n",
    "\n",
    "        #'task_container_id': [lambda x: len(set(x))],\n",
    "\n",
    "        'prior_question_elapsed_time': ['mean'], \n",
    "\n",
    "        'prior_question_had_explanation': ['mean'],#每个用户都有解释的先前问题的比例\n",
    "        \n",
    "        'lag': ['cumsum', 'cumcount']\n",
    "\n",
    "        # part 展开\n",
    "        #'part': [lambda x: len(set(x))],\n",
    "        #'tags': [lambda x: len(set(x))],\n",
    "    }\n",
    "    columns = [\n",
    "               gb_suffixes+'_answered_correctly_mean',\n",
    "               gb_suffixes+'_answered_correctly_count',\n",
    "               gb_suffixes+'_answered_correctly_std',\n",
    "               gb_suffixes+'_answered_correctly_sum',\n",
    "\n",
    "               #gb_suffixes+'_unique_task_container_id',\n",
    "        \n",
    "               gb_suffixes+'_prior_question_elapsed_time_mean',\n",
    "\n",
    "               gb_suffixes+'_prior_question_had_explanation_mean',\n",
    "        \n",
    "               gb_suffixes+'_lag_cumsum',\n",
    "               gb_suffixes+'_lag_cumcount',\n",
    "\n",
    "               #gb_suffixes+'_unique_part',\n",
    "               #gb_suffixes+'_unique_tags',\n",
    "              ]\n",
    "\n",
    "    train_questions_info__user_f = train_questions_info.\\\n",
    "                                    groupby(gb_columns).\\\n",
    "                                    agg(agg_func).\\\n",
    "                                    reset_index()\n",
    "    train_questions_info__user_f.columns = gb_columns + columns  \n",
    "    train_questions_info__user_f[gb_suffixes+'_user_correctness'] = train_questions_info__user_f[gb_suffixes+'_lag_cumsum'] / train_questions_info__user_f[gb_suffixes+'_lag_cumcount']\n",
    "    train_questions_info.drop(['lag'], axis=1, inplace=True)\n",
    "    \n",
    "    dtypes = {\n",
    "        gb_suffixes+'_answered_correctly_mean': 'float32',\n",
    "        gb_suffixes+'_answered_correctly_count': 'int16',\n",
    "        gb_suffixes+'_answered_correctly_std': 'float32',\n",
    "        gb_suffixes+'_answered_correctly_sum': 'int16',\n",
    "        gb_suffixes+'_prior_question_elapsed_time_mean': 'float32',\n",
    "        gb_suffixes+'_prior_question_had_explanation_mean': 'float32',\n",
    "        gb_suffixes+'_lag_cumsum': 'int16',\n",
    "        gb_suffixes+'_lag_cumcount':  'int16',\n",
    "        gb_suffixes+'_user_correctness': 'float32'\n",
    "        \n",
    "    }\n",
    "    train_questions_info__user_f.replace(np.nan, 0, inplace=True) \n",
    "    train_questions_info__user_f.replace(np.inf, 0, inplace=True)\n",
    "    train_questions_info__user_f = train_questions_info__user_f.astype(dtypes)\n",
    "    \n",
    "    return train_questions_info__user_f\n",
    "\n",
    "\n",
    "def get_questions_basic_features__content(train_questions_info):\n",
    "    gb_columns = ['content_id']\n",
    "    gb_suffixes = 'question_'+'_'.join(gb_columns)\n",
    "    agg_func = {\n",
    "        'answered_correctly': ['mean','count','std', 'sum'], # 每个问题正确回答的比例mean,回答总次数count,标准差std,回答正确的个数sum\n",
    "\n",
    "        'user_id': ['count','nunique'], #每个问题有多少个用户回答 size计数时包含NaN值\n",
    "\n",
    "        'prior_question_had_explanation': ['mean'] # 每个问题都有解释的先验问题的比例\n",
    "    }\n",
    "    columns = [\n",
    "               gb_suffixes+'_answered_correctly_mean',\n",
    "               gb_suffixes+'_answered_correctly_count',\n",
    "               gb_suffixes+'_answered_correctly_std',\n",
    "               gb_suffixes+'_answered_correctly_sum',\n",
    "\n",
    "               gb_suffixes+'_user_id_count', \n",
    "               gb_suffixes+'_user_id_nunique', \n",
    "\n",
    "               gb_suffixes+'_prior_question_had_explanation_mean'\n",
    "              ]    \n",
    "    \n",
    "    train_questions_info__user_content_f = train_questions_info.\\\n",
    "                                    groupby(gb_columns).\\\n",
    "                                    agg(agg_func).\\\n",
    "                                    reset_index()\n",
    "    train_questions_info__user_content_f.columns = gb_columns + columns\n",
    "    \n",
    "    train_questions_info__user_content_f[gb_suffixes+'_avg_questions'] = train_questions_info__user_content_f[gb_suffixes+'_user_id_count']/train_questions_info__user_content_f[gb_suffixes+'_user_id_nunique']\n",
    "    dtypes = {\n",
    "        gb_suffixes+'_answered_correctly_mean': 'float32',\n",
    "        gb_suffixes+'_answered_correctly_count': 'int16',\n",
    "        gb_suffixes+'_answered_correctly_std': 'float32',\n",
    "        gb_suffixes+'_answered_correctly_sum': 'int16',\n",
    "        gb_suffixes+'_user_id_count': 'int16',\n",
    "        gb_suffixes+'_user_id_nunique': 'int16',\n",
    "        gb_suffixes+'_prior_question_had_explanation_mean': 'float32',\n",
    "        gb_suffixes+'_avg_questions': 'float32'\n",
    "        \n",
    "    }\n",
    "    train_questions_info__user_content_f = train_questions_info__user_content_f.astype(dtypes)\n",
    "        \n",
    "    return train_questions_info__user_content_f"
   ]
  },
  {
   "cell_type": "code",
   "execution_count": 14,
   "metadata": {
    "execution": {
     "iopub.execute_input": "2020-11-25T02:25:25.256276Z",
     "iopub.status.busy": "2020-11-25T02:25:25.255212Z",
     "iopub.status.idle": "2020-11-25T02:25:25.327683Z",
     "shell.execute_reply": "2020-11-25T02:25:25.326989Z"
    },
    "papermill": {
     "duration": 0.107633,
     "end_time": "2020-11-25T02:25:25.327848",
     "exception": false,
     "start_time": "2020-11-25T02:25:25.220215",
     "status": "completed"
    },
    "tags": []
   },
   "outputs": [],
   "source": [
    "train_lectures_info__user__by_part_typeof_f = get_lecture_basic_features__user_by_part_typeof(train_lectures_info)"
   ]
  },
  {
   "cell_type": "code",
   "execution_count": 15,
   "metadata": {
    "execution": {
     "iopub.execute_input": "2020-11-25T02:25:25.401859Z",
     "iopub.status.busy": "2020-11-25T02:25:25.400575Z",
     "iopub.status.idle": "2020-11-25T02:25:26.487920Z",
     "shell.execute_reply": "2020-11-25T02:25:26.486325Z"
    },
    "papermill": {
     "duration": 1.127528,
     "end_time": "2020-11-25T02:25:26.488055",
     "exception": false,
     "start_time": "2020-11-25T02:25:25.360527",
     "status": "completed"
    },
    "tags": []
   },
   "outputs": [],
   "source": [
    "train_questions_info__user_f = get_questions_basic_features__user(train_questions_info)"
   ]
  },
  {
   "cell_type": "code",
   "execution_count": 16,
   "metadata": {
    "execution": {
     "iopub.execute_input": "2020-11-25T02:25:26.553738Z",
     "iopub.status.busy": "2020-11-25T02:25:26.552237Z",
     "iopub.status.idle": "2020-11-25T02:25:27.065472Z",
     "shell.execute_reply": "2020-11-25T02:25:27.064745Z"
    },
    "papermill": {
     "duration": 0.548307,
     "end_time": "2020-11-25T02:25:27.065615",
     "exception": false,
     "start_time": "2020-11-25T02:25:26.517308",
     "status": "completed"
    },
    "tags": []
   },
   "outputs": [],
   "source": [
    "train_questions_info__user_content_f = get_questions_basic_features__content(train_questions_info)"
   ]
  },
  {
   "cell_type": "code",
   "execution_count": 17,
   "metadata": {
    "execution": {
     "iopub.execute_input": "2020-11-25T02:25:27.139132Z",
     "iopub.status.busy": "2020-11-25T02:25:27.137984Z",
     "iopub.status.idle": "2020-11-25T02:25:28.818454Z",
     "shell.execute_reply": "2020-11-25T02:25:28.817802Z"
    },
    "papermill": {
     "duration": 1.719958,
     "end_time": "2020-11-25T02:25:28.818582",
     "exception": false,
     "start_time": "2020-11-25T02:25:27.098624",
     "status": "completed"
    },
    "tags": []
   },
   "outputs": [],
   "source": [
    "train_questions_info = train_questions_info.merge(train_lectures_info__user__by_part_typeof_f,on=['user_id'],how='left')\n",
    "train_questions_info = train_questions_info.merge(train_questions_info__user_f,on=['user_id'],how='left')\n",
    "train_questions_info = train_questions_info.merge(train_questions_info__user_content_f,on=['content_id'],how='left')"
   ]
  },
  {
   "cell_type": "code",
   "execution_count": 18,
   "metadata": {
    "execution": {
     "iopub.execute_input": "2020-11-25T02:25:28.885063Z",
     "iopub.status.busy": "2020-11-25T02:25:28.883580Z",
     "iopub.status.idle": "2020-11-25T02:25:28.885891Z",
     "shell.execute_reply": "2020-11-25T02:25:28.886444Z"
    },
    "papermill": {
     "duration": 0.037997,
     "end_time": "2020-11-25T02:25:28.886591",
     "exception": false,
     "start_time": "2020-11-25T02:25:28.848594",
     "status": "completed"
    },
    "tags": []
   },
   "outputs": [],
   "source": [
    "# del train_lectures_info__user__by_part_typeof_f\n",
    "# del train_questions_info__user_f\n",
    "# del train_questions_info__user_content_f\n",
    "# gc.collect()"
   ]
  },
  {
   "cell_type": "code",
   "execution_count": 19,
   "metadata": {
    "execution": {
     "iopub.execute_input": "2020-11-25T02:25:28.953413Z",
     "iopub.status.busy": "2020-11-25T02:25:28.952346Z",
     "iopub.status.idle": "2020-11-25T02:25:28.957165Z",
     "shell.execute_reply": "2020-11-25T02:25:28.956553Z"
    },
    "papermill": {
     "duration": 0.040731,
     "end_time": "2020-11-25T02:25:28.957281",
     "exception": false,
     "start_time": "2020-11-25T02:25:28.916550",
     "status": "completed"
    },
    "tags": []
   },
   "outputs": [
    {
     "data": {
      "text/plain": [
       "Index(['row_id', 'timestamp', 'user_id', 'content_id', 'content_type_id',\n",
       "       'task_container_id', 'answered_correctly',\n",
       "       'prior_question_elapsed_time', 'prior_question_had_explanation',\n",
       "       'question_id', 'bundle_id', 'part', 'tags', 'lectures_part_1',\n",
       "       'lectures_part_2', 'lectures_part_3', 'lectures_part_4',\n",
       "       'lectures_part_5', 'lectures_part_6', 'lectures_part_7',\n",
       "       'lectures_type_of_0', 'lectures_type_of_1', 'lectures_type_of_2',\n",
       "       'question_user_id_answered_correctly_mean',\n",
       "       'question_user_id_answered_correctly_count',\n",
       "       'question_user_id_answered_correctly_std',\n",
       "       'question_user_id_answered_correctly_sum',\n",
       "       'question_user_id_prior_question_elapsed_time_mean',\n",
       "       'question_user_id_prior_question_had_explanation_mean',\n",
       "       'question_user_id_lag_cumsum', 'question_user_id_lag_cumcount',\n",
       "       'question_user_id_user_correctness',\n",
       "       'question_content_id_answered_correctly_mean',\n",
       "       'question_content_id_answered_correctly_count',\n",
       "       'question_content_id_answered_correctly_std',\n",
       "       'question_content_id_answered_correctly_sum',\n",
       "       'question_content_id_user_id_count',\n",
       "       'question_content_id_user_id_nunique',\n",
       "       'question_content_id_prior_question_had_explanation_mean',\n",
       "       'question_content_id_avg_questions'],\n",
       "      dtype='object')"
      ]
     },
     "execution_count": 19,
     "metadata": {},
     "output_type": "execute_result"
    }
   ],
   "source": [
    "train_questions_info.columns"
   ]
  },
  {
   "cell_type": "code",
   "execution_count": 20,
   "metadata": {
    "execution": {
     "iopub.execute_input": "2020-11-25T02:25:29.024547Z",
     "iopub.status.busy": "2020-11-25T02:25:29.023672Z",
     "iopub.status.idle": "2020-11-25T02:25:29.027922Z",
     "shell.execute_reply": "2020-11-25T02:25:29.027360Z"
    },
    "papermill": {
     "duration": 0.040373,
     "end_time": "2020-11-25T02:25:29.028038",
     "exception": false,
     "start_time": "2020-11-25T02:25:28.987665",
     "status": "completed"
    },
    "tags": []
   },
   "outputs": [],
   "source": [
    "# 修改\n",
    "remove_columns = ['row_id','timestamp','user_id','content_type_id','question_content_id_user_id_count',\n",
    "                  'task_container_id','answered_correctly','question_id', 'bundle_id','tags'] #'part','tags'\n",
    "features_columns = [c for c in train_questions_info.columns if c not in remove_columns]\n"
   ]
  },
  {
   "cell_type": "code",
   "execution_count": 21,
   "metadata": {
    "execution": {
     "iopub.execute_input": "2020-11-25T02:25:29.097373Z",
     "iopub.status.busy": "2020-11-25T02:25:29.096286Z",
     "iopub.status.idle": "2020-11-25T02:25:29.590588Z",
     "shell.execute_reply": "2020-11-25T02:25:29.589975Z"
    },
    "papermill": {
     "duration": 0.531988,
     "end_time": "2020-11-25T02:25:29.590732",
     "exception": false,
     "start_time": "2020-11-25T02:25:29.058744",
     "status": "completed"
    },
    "tags": []
   },
   "outputs": [],
   "source": [
    "valid_data = train_questions_info.groupby('user_id').tail(6)\n",
    "train_data = train_questions_info[~train_questions_info.index.isin(valid_data.index)]\n",
    "# train_questions_info = train_questions_info[~train_questions_info.index.isin(valid_data.index)]"
   ]
  },
  {
   "cell_type": "code",
   "execution_count": 22,
   "metadata": {
    "execution": {
     "iopub.execute_input": "2020-11-25T02:25:29.657607Z",
     "iopub.status.busy": "2020-11-25T02:25:29.656857Z",
     "iopub.status.idle": "2020-11-25T02:25:29.661876Z",
     "shell.execute_reply": "2020-11-25T02:25:29.661176Z"
    },
    "papermill": {
     "duration": 0.0401,
     "end_time": "2020-11-25T02:25:29.662005",
     "exception": false,
     "start_time": "2020-11-25T02:25:29.621905",
     "status": "completed"
    },
    "tags": []
   },
   "outputs": [],
   "source": [
    "# train_data = train_questions_info.groupby('user_id').tail(30)"
   ]
  },
  {
   "cell_type": "code",
   "execution_count": 23,
   "metadata": {
    "execution": {
     "iopub.execute_input": "2020-11-25T02:25:29.732407Z",
     "iopub.status.busy": "2020-11-25T02:25:29.730879Z",
     "iopub.status.idle": "2020-11-25T02:25:29.735161Z",
     "shell.execute_reply": "2020-11-25T02:25:29.735724Z"
    },
    "papermill": {
     "duration": 0.042682,
     "end_time": "2020-11-25T02:25:29.735895",
     "exception": false,
     "start_time": "2020-11-25T02:25:29.693213",
     "status": "completed"
    },
    "tags": []
   },
   "outputs": [
    {
     "data": {
      "text/plain": [
       "(1914779, 46238)"
      ]
     },
     "execution_count": 23,
     "metadata": {},
     "output_type": "execute_result"
    }
   ],
   "source": [
    "len(train_data),len(valid_data)"
   ]
  },
  {
   "cell_type": "code",
   "execution_count": 24,
   "metadata": {
    "execution": {
     "iopub.execute_input": "2020-11-25T02:25:29.886501Z",
     "iopub.status.busy": "2020-11-25T02:25:29.884460Z",
     "iopub.status.idle": "2020-11-25T02:25:29.890070Z",
     "shell.execute_reply": "2020-11-25T02:25:29.890616Z"
    },
    "papermill": {
     "duration": 0.123318,
     "end_time": "2020-11-25T02:25:29.890783",
     "exception": false,
     "start_time": "2020-11-25T02:25:29.767465",
     "status": "completed"
    },
    "tags": []
   },
   "outputs": [
    {
     "data": {
      "text/plain": [
       "198"
      ]
     },
     "execution_count": 24,
     "metadata": {},
     "output_type": "execute_result"
    }
   ],
   "source": [
    "del train_questions_info\n",
    "gc.collect()"
   ]
  },
  {
   "cell_type": "code",
   "execution_count": 25,
   "metadata": {
    "execution": {
     "iopub.execute_input": "2020-11-25T02:25:30.065683Z",
     "iopub.status.busy": "2020-11-25T02:25:30.010217Z",
     "iopub.status.idle": "2020-11-25T02:25:30.068268Z",
     "shell.execute_reply": "2020-11-25T02:25:30.067659Z"
    },
    "papermill": {
     "duration": 0.145195,
     "end_time": "2020-11-25T02:25:30.068395",
     "exception": false,
     "start_time": "2020-11-25T02:25:29.923200",
     "status": "completed"
    },
    "tags": []
   },
   "outputs": [],
   "source": [
    "X_test, y_test = valid_data[features_columns], valid_data['answered_correctly']\n",
    "\n",
    "X_train, y_train = train_data[features_columns], train_data['answered_correctly']"
   ]
  },
  {
   "cell_type": "code",
   "execution_count": 26,
   "metadata": {
    "execution": {
     "iopub.execute_input": "2020-11-25T02:25:30.142909Z",
     "iopub.status.busy": "2020-11-25T02:25:30.142085Z",
     "iopub.status.idle": "2020-11-25T02:29:20.928754Z",
     "shell.execute_reply": "2020-11-25T02:29:20.929548Z"
    },
    "papermill": {
     "duration": 230.828283,
     "end_time": "2020-11-25T02:29:20.929743",
     "exception": false,
     "start_time": "2020-11-25T02:25:30.101460",
     "status": "completed"
    },
    "tags": []
   },
   "outputs": [
    {
     "name": "stderr",
     "output_type": "stream",
     "text": [
      "/opt/conda/lib/python3.7/site-packages/lightgbm/basic.py:1291: UserWarning: Using categorical_feature in Dataset.\n",
      "  warnings.warn('Using categorical_feature in Dataset.')\n"
     ]
    },
    {
     "name": "stdout",
     "output_type": "stream",
     "text": [
      "Training until validation scores don't improve for 50 rounds\n",
      "[50]\tvalid_0's auc: 0.761274\n",
      "[100]\tvalid_0's auc: 0.764414\n",
      "[150]\tvalid_0's auc: 0.766214\n",
      "[200]\tvalid_0's auc: 0.766969\n",
      "[250]\tvalid_0's auc: 0.7671\n",
      "[300]\tvalid_0's auc: 0.767245\n",
      "[350]\tvalid_0's auc: 0.767288\n",
      "[400]\tvalid_0's auc: 0.767352\n",
      "[450]\tvalid_0's auc: 0.767429\n",
      "[500]\tvalid_0's auc: 0.76741\n",
      "Early stopping, best iteration is:\n",
      "[473]\tvalid_0's auc: 0.767487\n"
     ]
    }
   ],
   "source": [
    "params = {\n",
    "    'objective': 'binary',\n",
    "    'seed': 42,\n",
    "    'metric': 'auc',\n",
    "    'learning_rate': 0.05,\n",
    "    'max_bin': 800,\n",
    "    'num_leaves': 80\n",
    "}\n",
    "\n",
    "lgb_train = lgb.Dataset(X_train, y_train, categorical_feature = ['part','prior_question_had_explanation'])\n",
    "lgb_eval = lgb.Dataset(X_test, y_test, categorical_feature = ['part','prior_question_had_explanation'], reference=lgb_train)\n",
    "\n",
    "gbm = lgb.train(\n",
    "            params,\n",
    "            lgb_train,\n",
    "            num_boost_round=10000,\n",
    "            valid_sets=lgb_eval,\n",
    "            early_stopping_rounds=50,\n",
    "            verbose_eval=50\n",
    "            )"
   ]
  },
  {
   "cell_type": "code",
   "execution_count": 27,
   "metadata": {
    "execution": {
     "iopub.execute_input": "2020-11-25T02:29:21.027520Z",
     "iopub.status.busy": "2020-11-25T02:29:21.026467Z",
     "iopub.status.idle": "2020-11-25T02:29:21.046007Z",
     "shell.execute_reply": "2020-11-25T02:29:21.046800Z"
    },
    "papermill": {
     "duration": 0.072242,
     "end_time": "2020-11-25T02:29:21.046973",
     "exception": false,
     "start_time": "2020-11-25T02:29:20.974731",
     "status": "completed"
    },
    "tags": []
   },
   "outputs": [
    {
     "data": {
      "text/html": [
       "<div>\n",
       "<style scoped>\n",
       "    .dataframe tbody tr th:only-of-type {\n",
       "        vertical-align: middle;\n",
       "    }\n",
       "\n",
       "    .dataframe tbody tr th {\n",
       "        vertical-align: top;\n",
       "    }\n",
       "\n",
       "    .dataframe thead th {\n",
       "        text-align: right;\n",
       "    }\n",
       "</style>\n",
       "<table border=\"1\" class=\"dataframe\">\n",
       "  <thead>\n",
       "    <tr style=\"text-align: right;\">\n",
       "      <th></th>\n",
       "      <th>feature_importance</th>\n",
       "      <th>features_columns</th>\n",
       "    </tr>\n",
       "  </thead>\n",
       "  <tbody>\n",
       "    <tr>\n",
       "      <th>1</th>\n",
       "      <td>3000</td>\n",
       "      <td>prior_question_elapsed_time</td>\n",
       "    </tr>\n",
       "    <tr>\n",
       "      <th>14</th>\n",
       "      <td>2805</td>\n",
       "      <td>question_user_id_answered_correctly_mean</td>\n",
       "    </tr>\n",
       "    <tr>\n",
       "      <th>23</th>\n",
       "      <td>2603</td>\n",
       "      <td>question_content_id_answered_correctly_mean</td>\n",
       "    </tr>\n",
       "    <tr>\n",
       "      <th>19</th>\n",
       "      <td>2286</td>\n",
       "      <td>question_user_id_prior_question_had_explanatio...</td>\n",
       "    </tr>\n",
       "    <tr>\n",
       "      <th>29</th>\n",
       "      <td>2169</td>\n",
       "      <td>question_content_id_avg_questions</td>\n",
       "    </tr>\n",
       "    <tr>\n",
       "      <th>18</th>\n",
       "      <td>2160</td>\n",
       "      <td>question_user_id_prior_question_elapsed_time_mean</td>\n",
       "    </tr>\n",
       "    <tr>\n",
       "      <th>0</th>\n",
       "      <td>2104</td>\n",
       "      <td>content_id</td>\n",
       "    </tr>\n",
       "    <tr>\n",
       "      <th>28</th>\n",
       "      <td>1800</td>\n",
       "      <td>question_content_id_prior_question_had_explana...</td>\n",
       "    </tr>\n",
       "    <tr>\n",
       "      <th>15</th>\n",
       "      <td>1702</td>\n",
       "      <td>question_user_id_answered_correctly_count</td>\n",
       "    </tr>\n",
       "    <tr>\n",
       "      <th>25</th>\n",
       "      <td>1561</td>\n",
       "      <td>question_content_id_answered_correctly_std</td>\n",
       "    </tr>\n",
       "    <tr>\n",
       "      <th>26</th>\n",
       "      <td>1529</td>\n",
       "      <td>question_content_id_answered_correctly_sum</td>\n",
       "    </tr>\n",
       "    <tr>\n",
       "      <th>16</th>\n",
       "      <td>1389</td>\n",
       "      <td>question_user_id_answered_correctly_std</td>\n",
       "    </tr>\n",
       "    <tr>\n",
       "      <th>24</th>\n",
       "      <td>1273</td>\n",
       "      <td>question_content_id_answered_correctly_count</td>\n",
       "    </tr>\n",
       "    <tr>\n",
       "      <th>3</th>\n",
       "      <td>1249</td>\n",
       "      <td>part</td>\n",
       "    </tr>\n",
       "    <tr>\n",
       "      <th>8</th>\n",
       "      <td>1170</td>\n",
       "      <td>lectures_part_5</td>\n",
       "    </tr>\n",
       "    <tr>\n",
       "      <th>17</th>\n",
       "      <td>1153</td>\n",
       "      <td>question_user_id_answered_correctly_sum</td>\n",
       "    </tr>\n",
       "    <tr>\n",
       "      <th>5</th>\n",
       "      <td>941</td>\n",
       "      <td>lectures_part_2</td>\n",
       "    </tr>\n",
       "    <tr>\n",
       "      <th>27</th>\n",
       "      <td>911</td>\n",
       "      <td>question_content_id_user_id_nunique</td>\n",
       "    </tr>\n",
       "    <tr>\n",
       "      <th>11</th>\n",
       "      <td>890</td>\n",
       "      <td>lectures_type_of_0</td>\n",
       "    </tr>\n",
       "    <tr>\n",
       "      <th>13</th>\n",
       "      <td>860</td>\n",
       "      <td>lectures_type_of_2</td>\n",
       "    </tr>\n",
       "    <tr>\n",
       "      <th>4</th>\n",
       "      <td>793</td>\n",
       "      <td>lectures_part_1</td>\n",
       "    </tr>\n",
       "    <tr>\n",
       "      <th>9</th>\n",
       "      <td>651</td>\n",
       "      <td>lectures_part_6</td>\n",
       "    </tr>\n",
       "    <tr>\n",
       "      <th>6</th>\n",
       "      <td>575</td>\n",
       "      <td>lectures_part_3</td>\n",
       "    </tr>\n",
       "    <tr>\n",
       "      <th>12</th>\n",
       "      <td>415</td>\n",
       "      <td>lectures_type_of_1</td>\n",
       "    </tr>\n",
       "    <tr>\n",
       "      <th>7</th>\n",
       "      <td>395</td>\n",
       "      <td>lectures_part_4</td>\n",
       "    </tr>\n",
       "    <tr>\n",
       "      <th>10</th>\n",
       "      <td>387</td>\n",
       "      <td>lectures_part_7</td>\n",
       "    </tr>\n",
       "    <tr>\n",
       "      <th>2</th>\n",
       "      <td>250</td>\n",
       "      <td>prior_question_had_explanation</td>\n",
       "    </tr>\n",
       "    <tr>\n",
       "      <th>20</th>\n",
       "      <td>144</td>\n",
       "      <td>question_user_id_lag_cumsum</td>\n",
       "    </tr>\n",
       "    <tr>\n",
       "      <th>22</th>\n",
       "      <td>129</td>\n",
       "      <td>question_user_id_user_correctness</td>\n",
       "    </tr>\n",
       "    <tr>\n",
       "      <th>21</th>\n",
       "      <td>73</td>\n",
       "      <td>question_user_id_lag_cumcount</td>\n",
       "    </tr>\n",
       "  </tbody>\n",
       "</table>\n",
       "</div>"
      ],
      "text/plain": [
       "    feature_importance                                   features_columns\n",
       "1                 3000                        prior_question_elapsed_time\n",
       "14                2805           question_user_id_answered_correctly_mean\n",
       "23                2603        question_content_id_answered_correctly_mean\n",
       "19                2286  question_user_id_prior_question_had_explanatio...\n",
       "29                2169                  question_content_id_avg_questions\n",
       "18                2160  question_user_id_prior_question_elapsed_time_mean\n",
       "0                 2104                                         content_id\n",
       "28                1800  question_content_id_prior_question_had_explana...\n",
       "15                1702          question_user_id_answered_correctly_count\n",
       "25                1561         question_content_id_answered_correctly_std\n",
       "26                1529         question_content_id_answered_correctly_sum\n",
       "16                1389            question_user_id_answered_correctly_std\n",
       "24                1273       question_content_id_answered_correctly_count\n",
       "3                 1249                                               part\n",
       "8                 1170                                    lectures_part_5\n",
       "17                1153            question_user_id_answered_correctly_sum\n",
       "5                  941                                    lectures_part_2\n",
       "27                 911                question_content_id_user_id_nunique\n",
       "11                 890                                 lectures_type_of_0\n",
       "13                 860                                 lectures_type_of_2\n",
       "4                  793                                    lectures_part_1\n",
       "9                  651                                    lectures_part_6\n",
       "6                  575                                    lectures_part_3\n",
       "12                 415                                 lectures_type_of_1\n",
       "7                  395                                    lectures_part_4\n",
       "10                 387                                    lectures_part_7\n",
       "2                  250                     prior_question_had_explanation\n",
       "20                 144                        question_user_id_lag_cumsum\n",
       "22                 129                  question_user_id_user_correctness\n",
       "21                  73                      question_user_id_lag_cumcount"
      ]
     },
     "execution_count": 27,
     "metadata": {},
     "output_type": "execute_result"
    }
   ],
   "source": [
    "gbm_features = pd.DataFrame({'feature_importance':gbm.feature_importance(),'features_columns':features_columns}).sort_values(['feature_importance'],ascending=0)\n",
    "gbm_features"
   ]
  },
  {
   "cell_type": "code",
   "execution_count": 28,
   "metadata": {
    "execution": {
     "iopub.execute_input": "2020-11-25T02:29:21.141739Z",
     "iopub.status.busy": "2020-11-25T02:29:21.140746Z",
     "iopub.status.idle": "2020-11-25T02:29:21.143518Z",
     "shell.execute_reply": "2020-11-25T02:29:21.144050Z"
    },
    "papermill": {
     "duration": 0.050625,
     "end_time": "2020-11-25T02:29:21.144201",
     "exception": false,
     "start_time": "2020-11-25T02:29:21.093576",
     "status": "completed"
    },
    "tags": []
   },
   "outputs": [],
   "source": [
    "# model = lgb.Booster(model_file='/kaggle/input/lgbmodelno-part/model.txt')"
   ]
  },
  {
   "cell_type": "code",
   "execution_count": 29,
   "metadata": {
    "execution": {
     "iopub.execute_input": "2020-11-25T02:29:21.229138Z",
     "iopub.status.busy": "2020-11-25T02:29:21.228207Z",
     "iopub.status.idle": "2020-11-25T02:29:21.238944Z",
     "shell.execute_reply": "2020-11-25T02:29:21.238187Z"
    },
    "papermill": {
     "duration": 0.054205,
     "end_time": "2020-11-25T02:29:21.239067",
     "exception": false,
     "start_time": "2020-11-25T02:29:21.184862",
     "status": "completed"
    },
    "tags": []
   },
   "outputs": [],
   "source": [
    "import riiideducation\n",
    "env = riiideducation.make_env()"
   ]
  },
  {
   "cell_type": "code",
   "execution_count": 30,
   "metadata": {
    "execution": {
     "iopub.execute_input": "2020-11-25T02:29:21.332345Z",
     "iopub.status.busy": "2020-11-25T02:29:21.331402Z",
     "iopub.status.idle": "2020-11-25T02:29:23.479873Z",
     "shell.execute_reply": "2020-11-25T02:29:23.478575Z"
    },
    "papermill": {
     "duration": 2.201781,
     "end_time": "2020-11-25T02:29:23.480025",
     "exception": false,
     "start_time": "2020-11-25T02:29:21.278244",
     "status": "completed"
    },
    "tags": []
   },
   "outputs": [],
   "source": [
    "iter_test = env.iter_test()\n",
    "\n",
    "for (test_df, sample_prediction_df) in iter_test:\n",
    "    \n",
    "    test_questions = test_df[test_df['content_type_id']==0]\n",
    "    test_questions_info = pd.merge(\n",
    "            left=test_questions,\n",
    "            right=questions,\n",
    "            how='left',\n",
    "            left_on='content_id',\n",
    "            right_on='question_id'\n",
    "            )\n",
    "    \n",
    "    # 数据处理\n",
    "    test_questions_info['prior_question_had_explanation'] = test_questions_info['prior_question_had_explanation'].map({'True':1,'False':0}).fillna(0).astype(np.int8)\n",
    "    prior_question_elapsed_time_mean = test_questions_info['prior_question_elapsed_time'].dropna().values.mean()\n",
    "    test_questions_info['prior_question_elapsed_time'].fillna(prior_question_elapsed_time_mean, inplace=True)\n",
    "\n",
    "    test_questions_info = test_questions_info.merge(train_lectures_info__user__by_part_typeof_f,on=['user_id'],how='left')\n",
    "    test_questions_info = test_questions_info.merge(train_questions_info__user_f,on=['user_id'],how='left')\n",
    "    test_questions_info = test_questions_info.merge(train_questions_info__user_content_f,on=['content_id'],how='left')\n",
    "\n",
    "\n",
    "    X_test = test_questions_info[features_columns]\n",
    "    \n",
    "    test_questions_info['answered_correctly'] =  gbm.predict(X_test)\n",
    "    \n",
    "    env.predict(test_questions_info.loc[test_questions_info['content_type_id'] == 0, ['row_id', 'answered_correctly']])"
   ]
  },
  {
   "cell_type": "code",
   "execution_count": 31,
   "metadata": {
    "execution": {
     "iopub.execute_input": "2020-11-25T02:29:23.565505Z",
     "iopub.status.busy": "2020-11-25T02:29:23.564564Z",
     "iopub.status.idle": "2020-11-25T02:29:23.569253Z",
     "shell.execute_reply": "2020-11-25T02:29:23.568593Z"
    },
    "papermill": {
     "duration": 0.049631,
     "end_time": "2020-11-25T02:29:23.569374",
     "exception": false,
     "start_time": "2020-11-25T02:29:23.519743",
     "status": "completed"
    },
    "tags": []
   },
   "outputs": [],
   "source": [
    "# prior_test_df = None\n",
    "# for (test_df, sample_prediction_df) in iter_test:\n",
    "#     if prior_test_df is not None:\n",
    "#         prior_test_df[target] = eval(test_df['prior_group_answers_correct'].iloc[0])\n",
    "#         prior_test_df = prior_test_df[prior_test_df[target] != -1].reset_index(drop=True)\n",
    "        \n",
    "#         user_ids = prior_test_df['user_id'].values\n",
    "#         content_ids = prior_test_df['content_id'].values\n",
    "#         targets = prior_test_df[target].values\n",
    "        \n",
    "#         for user_id, content_id, answered_correctly in zip(user_ids, content_ids, targets):\n",
    "#             if user_id in user_agg.index:\n",
    "#                 user_agg.loc[user_id, 'sum'] += answered_correctly\n",
    "#                 user_agg.loc[user_id, 'count'] += 1\n",
    "#             else:\n",
    "#                 user_agg.loc[user_id] = [answered_correctly, 1]\n",
    "            \n",
    "#             if content_id in content_agg.index:\n",
    "#                 content_agg.loc[content_id, 'sum'] += answered_correctly\n",
    "#                 content_agg.loc[content_id, 'count'] += 1\n",
    "#             else:\n",
    "#                 content_agg.loc[content_id] = [answered_correctly, 1]\n",
    "                \n",
    "#     prior_test_df = test_df.copy()\n",
    "#     test_df = pd.merge(test_df, questions_df, left_on='content_id', right_on='question_id', how='left')\n",
    "    \n",
    "#     test_df = test_df[test_df['content_type_id'] == 0].reset_index(drop=True)\n",
    "#     test_df['prior_question_had_explanation'] = test_df['prior_question_had_explanation'].map({'True':1,'False':0}).fillna(0).astype(np.int8)\n",
    "#     prior_question_elapsed_time_mean = test_df.prior_question_elapsed_time.dropna().values.mean()\n",
    "#     test_df.prior_question_elapsed_time.fillna(prior_question_elapsed_time_mean, inplace=True)\n",
    "    \n",
    "   \n",
    "    \n",
    "#     test_df['user_correctness'] = test_df['user_id'].map(user_agg['sum'] / user_agg['count'])\n",
    "#     test_df['content_count'] = test_df['content_id'].map(content_agg['count']).fillna(1)\n",
    "#     test_df['content_difficulty'] = test_df['content_id'].map(content_agg['sum'] / content_agg['count']).fillna(0.7)\n",
    "#     test_df['user_answered_count'] = test_df['user_id'].map(user_agg['count']).fillna(1)\n",
    "#     test_df['user_answered_correctly_count'] = test_df['user_id'].map(user_agg['sum']).fillna(1)\n",
    "       \n",
    "# #     test_df[target] = model.predict(test_df[features])\n",
    "# #     env.predict(test_df[['row_id', target]])\n",
    "    \n",
    "#     test_df['answered_correctly'] = model.predict(test_df[features_columns])\n",
    "#     env.predict(test_df.loc[test_df['content_type_id'] == 0, ['row_id', 'answered_correctly']])"
   ]
  },
  {
   "cell_type": "code",
   "execution_count": 32,
   "metadata": {
    "execution": {
     "iopub.execute_input": "2020-11-25T02:29:23.654340Z",
     "iopub.status.busy": "2020-11-25T02:29:23.653414Z",
     "iopub.status.idle": "2020-11-25T02:29:24.398921Z",
     "shell.execute_reply": "2020-11-25T02:29:24.398299Z"
    },
    "papermill": {
     "duration": 0.790182,
     "end_time": "2020-11-25T02:29:24.399053",
     "exception": false,
     "start_time": "2020-11-25T02:29:23.608871",
     "status": "completed"
    },
    "tags": []
   },
   "outputs": [
    {
     "name": "stdout",
     "output_type": "stream",
     "text": [
      "__notebook__.ipynb  submission.csv\r\n"
     ]
    }
   ],
   "source": [
    "ls"
   ]
  },
  {
   "cell_type": "code",
   "execution_count": 33,
   "metadata": {
    "execution": {
     "iopub.execute_input": "2020-11-25T02:29:24.496466Z",
     "iopub.status.busy": "2020-11-25T02:29:24.495356Z",
     "iopub.status.idle": "2020-11-25T02:29:24.687506Z",
     "shell.execute_reply": "2020-11-25T02:29:24.689155Z"
    },
    "papermill": {
     "duration": 0.250396,
     "end_time": "2020-11-25T02:29:24.689414",
     "exception": false,
     "start_time": "2020-11-25T02:29:24.439018",
     "status": "completed"
    },
    "tags": []
   },
   "outputs": [
    {
     "ename": "KeyError",
     "evalue": "\"['question_content_id_prior_question_had_explanation_mean', 'lectures_part_6', 'question_user_id_prior_question_elapsed_time_mean', 'lectures_part_7', 'question_content_id_user_id_nunique', 'lectures_part_5', 'lectures_type_of_2', 'part', 'question_content_id_answered_correctly_sum', 'question_user_id_lag_cumcount', 'question_user_id_lag_cumsum', 'question_content_id_avg_questions', 'question_content_id_answered_correctly_count', 'lectures_type_of_0', 'question_content_id_answered_correctly_mean', 'question_user_id_user_correctness', 'lectures_type_of_1', 'lectures_part_1', 'question_user_id_answered_correctly_sum', 'question_user_id_answered_correctly_count', 'lectures_part_2', 'question_content_id_answered_correctly_std', 'question_user_id_prior_question_had_explanation_mean', 'lectures_part_3', 'question_user_id_answered_correctly_std', 'question_user_id_answered_correctly_mean', 'lectures_part_4'] not in index\"",
     "output_type": "error",
     "traceback": [
      "\u001b[0;31m---------------------------------------------------------------------------\u001b[0m",
      "\u001b[0;31mKeyError\u001b[0m                                  Traceback (most recent call last)",
      "\u001b[0;32m<ipython-input-33-efefc97c246a>\u001b[0m in \u001b[0;36m<module>\u001b[0;34m\u001b[0m\n\u001b[0;32m----> 1\u001b[0;31m \u001b[0mtest_df\u001b[0m\u001b[0;34m[\u001b[0m\u001b[0mfeatures_columns\u001b[0m\u001b[0;34m]\u001b[0m\u001b[0;34m\u001b[0m\u001b[0;34m\u001b[0m\u001b[0m\n\u001b[0m",
      "\u001b[0;32m/opt/conda/lib/python3.7/site-packages/pandas/core/frame.py\u001b[0m in \u001b[0;36m__getitem__\u001b[0;34m(self, key)\u001b[0m\n\u001b[1;32m   2906\u001b[0m             \u001b[0;32mif\u001b[0m \u001b[0mis_iterator\u001b[0m\u001b[0;34m(\u001b[0m\u001b[0mkey\u001b[0m\u001b[0;34m)\u001b[0m\u001b[0;34m:\u001b[0m\u001b[0;34m\u001b[0m\u001b[0;34m\u001b[0m\u001b[0m\n\u001b[1;32m   2907\u001b[0m                 \u001b[0mkey\u001b[0m \u001b[0;34m=\u001b[0m \u001b[0mlist\u001b[0m\u001b[0;34m(\u001b[0m\u001b[0mkey\u001b[0m\u001b[0;34m)\u001b[0m\u001b[0;34m\u001b[0m\u001b[0;34m\u001b[0m\u001b[0m\n\u001b[0;32m-> 2908\u001b[0;31m             \u001b[0mindexer\u001b[0m \u001b[0;34m=\u001b[0m \u001b[0mself\u001b[0m\u001b[0;34m.\u001b[0m\u001b[0mloc\u001b[0m\u001b[0;34m.\u001b[0m\u001b[0m_get_listlike_indexer\u001b[0m\u001b[0;34m(\u001b[0m\u001b[0mkey\u001b[0m\u001b[0;34m,\u001b[0m \u001b[0maxis\u001b[0m\u001b[0;34m=\u001b[0m\u001b[0;36m1\u001b[0m\u001b[0;34m,\u001b[0m \u001b[0mraise_missing\u001b[0m\u001b[0;34m=\u001b[0m\u001b[0;32mTrue\u001b[0m\u001b[0;34m)\u001b[0m\u001b[0;34m[\u001b[0m\u001b[0;36m1\u001b[0m\u001b[0;34m]\u001b[0m\u001b[0;34m\u001b[0m\u001b[0;34m\u001b[0m\u001b[0m\n\u001b[0m\u001b[1;32m   2909\u001b[0m \u001b[0;34m\u001b[0m\u001b[0m\n\u001b[1;32m   2910\u001b[0m         \u001b[0;31m# take() does not accept boolean indexers\u001b[0m\u001b[0;34m\u001b[0m\u001b[0;34m\u001b[0m\u001b[0;34m\u001b[0m\u001b[0m\n",
      "\u001b[0;32m/opt/conda/lib/python3.7/site-packages/pandas/core/indexing.py\u001b[0m in \u001b[0;36m_get_listlike_indexer\u001b[0;34m(self, key, axis, raise_missing)\u001b[0m\n\u001b[1;32m   1252\u001b[0m             \u001b[0mkeyarr\u001b[0m\u001b[0;34m,\u001b[0m \u001b[0mindexer\u001b[0m\u001b[0;34m,\u001b[0m \u001b[0mnew_indexer\u001b[0m \u001b[0;34m=\u001b[0m \u001b[0max\u001b[0m\u001b[0;34m.\u001b[0m\u001b[0m_reindex_non_unique\u001b[0m\u001b[0;34m(\u001b[0m\u001b[0mkeyarr\u001b[0m\u001b[0;34m)\u001b[0m\u001b[0;34m\u001b[0m\u001b[0;34m\u001b[0m\u001b[0m\n\u001b[1;32m   1253\u001b[0m \u001b[0;34m\u001b[0m\u001b[0m\n\u001b[0;32m-> 1254\u001b[0;31m         \u001b[0mself\u001b[0m\u001b[0;34m.\u001b[0m\u001b[0m_validate_read_indexer\u001b[0m\u001b[0;34m(\u001b[0m\u001b[0mkeyarr\u001b[0m\u001b[0;34m,\u001b[0m \u001b[0mindexer\u001b[0m\u001b[0;34m,\u001b[0m \u001b[0maxis\u001b[0m\u001b[0;34m,\u001b[0m \u001b[0mraise_missing\u001b[0m\u001b[0;34m=\u001b[0m\u001b[0mraise_missing\u001b[0m\u001b[0;34m)\u001b[0m\u001b[0;34m\u001b[0m\u001b[0;34m\u001b[0m\u001b[0m\n\u001b[0m\u001b[1;32m   1255\u001b[0m         \u001b[0;32mreturn\u001b[0m \u001b[0mkeyarr\u001b[0m\u001b[0;34m,\u001b[0m \u001b[0mindexer\u001b[0m\u001b[0;34m\u001b[0m\u001b[0;34m\u001b[0m\u001b[0m\n\u001b[1;32m   1256\u001b[0m \u001b[0;34m\u001b[0m\u001b[0m\n",
      "\u001b[0;32m/opt/conda/lib/python3.7/site-packages/pandas/core/indexing.py\u001b[0m in \u001b[0;36m_validate_read_indexer\u001b[0;34m(self, key, indexer, axis, raise_missing)\u001b[0m\n\u001b[1;32m   1302\u001b[0m             \u001b[0;32mif\u001b[0m \u001b[0mraise_missing\u001b[0m\u001b[0;34m:\u001b[0m\u001b[0;34m\u001b[0m\u001b[0;34m\u001b[0m\u001b[0m\n\u001b[1;32m   1303\u001b[0m                 \u001b[0mnot_found\u001b[0m \u001b[0;34m=\u001b[0m \u001b[0mlist\u001b[0m\u001b[0;34m(\u001b[0m\u001b[0mset\u001b[0m\u001b[0;34m(\u001b[0m\u001b[0mkey\u001b[0m\u001b[0;34m)\u001b[0m \u001b[0;34m-\u001b[0m \u001b[0mset\u001b[0m\u001b[0;34m(\u001b[0m\u001b[0max\u001b[0m\u001b[0;34m)\u001b[0m\u001b[0;34m)\u001b[0m\u001b[0;34m\u001b[0m\u001b[0;34m\u001b[0m\u001b[0m\n\u001b[0;32m-> 1304\u001b[0;31m                 \u001b[0;32mraise\u001b[0m \u001b[0mKeyError\u001b[0m\u001b[0;34m(\u001b[0m\u001b[0;34mf\"{not_found} not in index\"\u001b[0m\u001b[0;34m)\u001b[0m\u001b[0;34m\u001b[0m\u001b[0;34m\u001b[0m\u001b[0m\n\u001b[0m\u001b[1;32m   1305\u001b[0m \u001b[0;34m\u001b[0m\u001b[0m\n\u001b[1;32m   1306\u001b[0m             \u001b[0;31m# we skip the warning on Categorical\u001b[0m\u001b[0;34m\u001b[0m\u001b[0;34m\u001b[0m\u001b[0;34m\u001b[0m\u001b[0m\n",
      "\u001b[0;31mKeyError\u001b[0m: \"['question_content_id_prior_question_had_explanation_mean', 'lectures_part_6', 'question_user_id_prior_question_elapsed_time_mean', 'lectures_part_7', 'question_content_id_user_id_nunique', 'lectures_part_5', 'lectures_type_of_2', 'part', 'question_content_id_answered_correctly_sum', 'question_user_id_lag_cumcount', 'question_user_id_lag_cumsum', 'question_content_id_avg_questions', 'question_content_id_answered_correctly_count', 'lectures_type_of_0', 'question_content_id_answered_correctly_mean', 'question_user_id_user_correctness', 'lectures_type_of_1', 'lectures_part_1', 'question_user_id_answered_correctly_sum', 'question_user_id_answered_correctly_count', 'lectures_part_2', 'question_content_id_answered_correctly_std', 'question_user_id_prior_question_had_explanation_mean', 'lectures_part_3', 'question_user_id_answered_correctly_std', 'question_user_id_answered_correctly_mean', 'lectures_part_4'] not in index\""
     ]
    }
   ],
   "source": [
    "test_df[features_columns]"
   ]
  }
 ],
 "metadata": {
  "kernelspec": {
   "display_name": "Python 3",
   "language": "python",
   "name": "python3"
  },
  "language_info": {
   "codemirror_mode": {
    "name": "ipython",
    "version": 3
   },
   "file_extension": ".py",
   "mimetype": "text/x-python",
   "name": "python",
   "nbconvert_exporter": "python",
   "pygments_lexer": "ipython3",
   "version": "3.7.6"
  },
  "papermill": {
   "duration": 250.553056,
   "end_time": "2020-11-25T02:29:24.870949",
   "environment_variables": {},
   "exception": null,
   "input_path": "__notebook__.ipynb",
   "output_path": "__notebook__.ipynb",
   "parameters": {},
   "start_time": "2020-11-25T02:25:14.317893",
   "version": "2.1.0"
  }
 },
 "nbformat": 4,
 "nbformat_minor": 4
}
