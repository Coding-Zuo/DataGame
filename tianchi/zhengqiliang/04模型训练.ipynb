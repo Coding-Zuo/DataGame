{
 "cells": [
  {
   "cell_type": "raw",
   "metadata": {},
   "source": [
    "\"\"\"\n",
    "回归模型训练和预测步骤：\n",
    "    1.导入需要的工具库\n",
    "    2.对数据预处理，包括导入数据集、处理数据集等操作，具体为缺失值处理、连续特征归一化、类别特征转换等\n",
    "    3.训练模型，选择合适的机器学习模型，利用训练集对模型进行训练。达到最佳拟合效果\n",
    "    4.预测结果。将待预测的数据集输入到训练好的模型中，得到预测结果。\n",
    "\"\"\""
   ]
  },
  {
   "cell_type": "code",
   "execution_count": 1,
   "metadata": {},
   "outputs": [],
   "source": [
    "import numpy as np\n",
    "import pandas as pd\n",
    "import os\n",
    "import matplotlib.pyplot as plt\n",
    "import seaborn as sns"
   ]
  },
  {
   "cell_type": "code",
   "execution_count": 2,
   "metadata": {},
   "outputs": [],
   "source": [
    "train_data = pd.read_csv('zhengqi_train.txt',sep=\"\\t\")\n",
    "test_data = pd.read_csv('zhengqi_test.txt',sep=\"\\t\")"
   ]
  },
  {
   "cell_type": "code",
   "execution_count": 3,
   "metadata": {},
   "outputs": [],
   "source": [
    "from sklearn.linear_model import LinearRegression\n",
    "from sklearn.neighbors import KNeighborsRegressor\n",
    "from sklearn.tree import DecisionTreeRegressor\n",
    "from sklearn.ensemble import RandomForestRegressor\n",
    "from sklearn.svm import SVR\n",
    "import lightgbm as lgb"
   ]
  },
  {
   "cell_type": "code",
   "execution_count": 4,
   "metadata": {},
   "outputs": [],
   "source": [
    "from sklearn.model_selection import train_test_split\n",
    "from sklearn.metrics import mean_squared_error\n",
    "from sklearn.model_selection import learning_curve\n",
    "from sklearn.model_selection import ShuffleSplit"
   ]
  },
  {
   "cell_type": "code",
   "execution_count": 5,
   "metadata": {},
   "outputs": [],
   "source": [
    "##删除异常值\n",
    "train_data = train_data[train_data['V9']>-7.5]\n",
    "test_data = test_data[test_data['V9']>-7.5]\n",
    "\n",
    "##归一化数据\n",
    "from sklearn import preprocessing\n",
    "features_columns = [col for col in train_data.columns if col not in ['target']]\n",
    "min_max_scaler = preprocessing.MinMaxScaler()\n",
    "min_max_scaler = min_max_scaler.fit(train_data[features_columns])\n",
    "train_data_scaler = min_max_scaler.transform(train_data[features_columns])\n",
    "test_data_scaler = min_max_scaler.transform(test_data[features_columns])\n",
    "\n",
    "train_data_scaler = pd.DataFrame(train_data_scaler)\n",
    "train_data_scaler.columns = features_columns\n",
    "test_data_scaler = pd.DataFrame(test_data_scaler)\n",
    "test_data_scaler.columns = features_columns\n",
    "train_data_scaler['target'] = train_data['target']\n",
    "\n",
    "##PCA降维 保持90%的信息\n",
    "from sklearn.decomposition import PCA   #主成分分析法\n",
    "pca = PCA(n_components=0.9)\n",
    "new_train_pca_90 = pca.fit_transform(train_data_scaler.iloc[:,0:-1])\n",
    "new_test_pca_90 = pca.transform(test_data_scaler)\n",
    "new_train_pca_90 = pd.DataFrame(new_train_pca_90)\n",
    "new_test_pca_90 = pd.DataFrame(new_test_pca_90)\n",
    "new_train_pca_90['target'] = train_data_scaler['target']\n",
    "\n",
    "pca = PCA(n_components=0.95)\n",
    "new_train_pca_16 = pca.fit_transform(train_data_scaler.iloc[:,0:-1])\n",
    "new_test_pca_16 = pca.transform(test_data_scaler)\n",
    "new_train_pca_16 = pd.DataFrame(new_train_pca_16)\n",
    "new_test_pca_16 = pd.DataFrame(new_test_pca_16)\n",
    "new_train_pca_16['target'] = train_data_scaler['target']"
   ]
  },
  {
   "cell_type": "code",
   "execution_count": 6,
   "metadata": {},
   "outputs": [],
   "source": [
    "#切分数据集\n",
    "from sklearn.model_selection import train_test_split  # 切分数据\n",
    "new_train_pca_16 = new_train_pca_16.fillna(0)  #采用 pca 保留16维特征的数据\n",
    "train = new_train_pca_16[new_test_pca_16.columns]\n",
    "target = new_train_pca_16['target']"
   ]
  },
  {
   "cell_type": "code",
   "execution_count": 7,
   "metadata": {},
   "outputs": [],
   "source": [
    "train_data,test_data,train_target,test_target = train_test_split(train,target,test_size=0.2,random_state=0)"
   ]
  },
  {
   "cell_type": "code",
   "execution_count": 8,
   "metadata": {},
   "outputs": [
    {
     "data": {
      "text/plain": [
       "0.26423379176281725"
      ]
     },
     "execution_count": 8,
     "metadata": {},
     "output_type": "execute_result"
    }
   ],
   "source": [
    "clf = LinearRegression()\n",
    "clf.fit(train_data,train_target)\n",
    "score = mean_squared_error(test_target,clf.predict(test_data))\n",
    "score"
   ]
  },
  {
   "cell_type": "code",
   "execution_count": 9,
   "metadata": {},
   "outputs": [
    {
     "data": {
      "text/plain": [
       "LGBMRegressor(learning_rate=0.01, n_estimators=5000, objective='regression',\n",
       "              random_state=2019)"
      ]
     },
     "execution_count": 9,
     "metadata": {},
     "output_type": "execute_result"
    }
   ],
   "source": [
    "clf = lgb.LGBMRegressor(learning_rate=0.01,\n",
    "                       max_depth=-1,\n",
    "                       n_estimators=5000,\n",
    "                       boosting_type='gbdt',\n",
    "                       random_state=2019,\n",
    "                       objective='regression')\n",
    "clf.fit(X=train_data,y=train_target,eval_metric='MSE',verbose=50)"
   ]
  },
  {
   "cell_type": "code",
   "execution_count": 10,
   "metadata": {},
   "outputs": [
    {
     "data": {
      "text/plain": [
       "0.23134714151049274"
      ]
     },
     "execution_count": 10,
     "metadata": {},
     "output_type": "execute_result"
    }
   ],
   "source": [
    "score = mean_squared_error(test_target,clf.predict(test_data))\n",
    "score"
   ]
  },
  {
   "cell_type": "code",
   "execution_count": 11,
   "metadata": {},
   "outputs": [
    {
     "data": {
      "text/plain": [
       "{'learning_rate': 0.1, 'n_estimators': 40}"
      ]
     },
     "execution_count": 11,
     "metadata": {},
     "output_type": "execute_result"
    }
   ],
   "source": [
    "from sklearn.model_selection import GridSearchCV\n",
    "from sklearn.model_selection import RandomizedSearchCV\n",
    "parameters={\n",
    "    'learning_rate':[0.01,0.1,1],\n",
    "    'n_estimators':[20,40]\n",
    "}\n",
    "clf = GridSearchCV(clf,parameters,cv=5)\n",
    "clf.fit(train_data,train_target)\n",
    "clf.best_params_"
   ]
  },
  {
   "cell_type": "code",
   "execution_count": 12,
   "metadata": {},
   "outputs": [
    {
     "data": {
      "text/plain": [
       "0.2528012673741091"
      ]
     },
     "execution_count": 12,
     "metadata": {},
     "output_type": "execute_result"
    }
   ],
   "source": [
    "score_test = mean_squared_error(test_target,clf.predict(test_data))\n",
    "score_test"
   ]
  },
  {
   "cell_type": "code",
   "execution_count": 13,
   "metadata": {},
   "outputs": [],
   "source": [
    "from sklearn.model_selection import KFold\n",
    "Folds=5\n",
    "kf = KFold(n_splits = Folds,shuffle=True,random_state=2019)\n",
    "#记录训练和预测MSE\n",
    "MSE_DICT = {'train_mse':[],'test_mse':[]}"
   ]
  },
  {
   "cell_type": "code",
   "execution_count": 22,
   "metadata": {},
   "outputs": [],
   "source": [
    "train_data2_f=train.values\n",
    "train_data2_target=target.values"
   ]
  },
  {
   "cell_type": "code",
   "execution_count": 23,
   "metadata": {},
   "outputs": [
    {
     "name": "stdout",
     "output_type": "stream",
     "text": [
      "Training until validation scores don't improve for 100 rounds\n",
      "[50]\tTrain's l2: 0.535721\tTest's l2: 0.602118\n",
      "[100]\tTrain's l2: 0.349454\tTest's l2: 0.432722\n",
      "[150]\tTrain's l2: 0.25538\tTest's l2: 0.35617\n",
      "[200]\tTrain's l2: 0.201518\tTest's l2: 0.317182\n",
      "[250]\tTrain's l2: 0.166098\tTest's l2: 0.29417\n",
      "[300]\tTrain's l2: 0.140931\tTest's l2: 0.280006\n",
      "[350]\tTrain's l2: 0.121575\tTest's l2: 0.267594\n",
      "[400]\tTrain's l2: 0.106663\tTest's l2: 0.260325\n",
      "[450]\tTrain's l2: 0.0949007\tTest's l2: 0.255661\n",
      "[500]\tTrain's l2: 0.0848952\tTest's l2: 0.252331\n",
      "[550]\tTrain's l2: 0.0762856\tTest's l2: 0.250039\n",
      "[600]\tTrain's l2: 0.0694708\tTest's l2: 0.249684\n",
      "[650]\tTrain's l2: 0.0637134\tTest's l2: 0.248453\n",
      "[700]\tTrain's l2: 0.0587498\tTest's l2: 0.247276\n",
      "[750]\tTrain's l2: 0.0541193\tTest's l2: 0.246845\n",
      "[800]\tTrain's l2: 0.0500765\tTest's l2: 0.246357\n",
      "[850]\tTrain's l2: 0.0464123\tTest's l2: 0.246028\n",
      "[900]\tTrain's l2: 0.0430409\tTest's l2: 0.245343\n",
      "[950]\tTrain's l2: 0.0399874\tTest's l2: 0.245034\n",
      "[1000]\tTrain's l2: 0.0373059\tTest's l2: 0.244474\n",
      "[1050]\tTrain's l2: 0.0346849\tTest's l2: 0.243552\n",
      "[1100]\tTrain's l2: 0.0323128\tTest's l2: 0.243511\n",
      "[1150]\tTrain's l2: 0.0301566\tTest's l2: 0.242947\n",
      "[1200]\tTrain's l2: 0.0281306\tTest's l2: 0.242218\n",
      "[1250]\tTrain's l2: 0.0262263\tTest's l2: 0.241518\n",
      "[1300]\tTrain's l2: 0.024545\tTest's l2: 0.240851\n",
      "[1350]\tTrain's l2: 0.0229824\tTest's l2: 0.24051\n",
      "[1400]\tTrain's l2: 0.0215104\tTest's l2: 0.239928\n",
      "[1450]\tTrain's l2: 0.0202354\tTest's l2: 0.239591\n",
      "[1500]\tTrain's l2: 0.0188953\tTest's l2: 0.239075\n",
      "[1550]\tTrain's l2: 0.0176454\tTest's l2: 0.238875\n",
      "[1600]\tTrain's l2: 0.0165584\tTest's l2: 0.238486\n",
      "[1650]\tTrain's l2: 0.0155064\tTest's l2: 0.238081\n",
      "[1700]\tTrain's l2: 0.0145314\tTest's l2: 0.237607\n",
      "[1750]\tTrain's l2: 0.0136868\tTest's l2: 0.237318\n",
      "[1800]\tTrain's l2: 0.0127858\tTest's l2: 0.237379\n",
      "[1850]\tTrain's l2: 0.0119322\tTest's l2: 0.237031\n",
      "[1900]\tTrain's l2: 0.011198\tTest's l2: 0.236898\n",
      "[1950]\tTrain's l2: 0.0105176\tTest's l2: 0.236823\n",
      "[2000]\tTrain's l2: 0.00988235\tTest's l2: 0.236832\n",
      "[2050]\tTrain's l2: 0.00927112\tTest's l2: 0.237005\n",
      "Early stopping, best iteration is:\n",
      "[1952]\tTrain's l2: 0.0104881\tTest's l2: 0.236779\n",
      "第1折 训练和预测 训练MSE 预测MSE\n",
      "------\n",
      " 训练MSE\n",
      " 0.010488074363309601 \n",
      "------\n",
      "------\n",
      " 预测MSE\n",
      " 0.23677867170871048 \n",
      "------\n",
      "\n",
      "Training until validation scores don't improve for 100 rounds\n",
      "[50]\tTrain's l2: 0.542548\tTest's l2: 0.570972\n",
      "[100]\tTrain's l2: 0.349929\tTest's l2: 0.418815\n",
      "[150]\tTrain's l2: 0.253742\tTest's l2: 0.353395\n",
      "[200]\tTrain's l2: 0.197856\tTest's l2: 0.317322\n",
      "[250]\tTrain's l2: 0.162893\tTest's l2: 0.298286\n",
      "[300]\tTrain's l2: 0.137791\tTest's l2: 0.286991\n",
      "[350]\tTrain's l2: 0.118598\tTest's l2: 0.278369\n",
      "[400]\tTrain's l2: 0.103423\tTest's l2: 0.273514\n",
      "[450]\tTrain's l2: 0.0918481\tTest's l2: 0.270337\n",
      "[500]\tTrain's l2: 0.0824839\tTest's l2: 0.267599\n",
      "[550]\tTrain's l2: 0.0747282\tTest's l2: 0.265828\n",
      "[600]\tTrain's l2: 0.0681576\tTest's l2: 0.26434\n",
      "[650]\tTrain's l2: 0.0626514\tTest's l2: 0.263066\n",
      "[700]\tTrain's l2: 0.0574621\tTest's l2: 0.261849\n",
      "[750]\tTrain's l2: 0.052794\tTest's l2: 0.260823\n",
      "[800]\tTrain's l2: 0.0486726\tTest's l2: 0.260353\n",
      "[850]\tTrain's l2: 0.0450937\tTest's l2: 0.260028\n",
      "[900]\tTrain's l2: 0.0417621\tTest's l2: 0.260071\n",
      "[950]\tTrain's l2: 0.0387286\tTest's l2: 0.259936\n",
      "[1000]\tTrain's l2: 0.0360009\tTest's l2: 0.260142\n",
      "Early stopping, best iteration is:\n",
      "[915]\tTrain's l2: 0.0407906\tTest's l2: 0.259685\n",
      "第2折 训练和预测 训练MSE 预测MSE\n",
      "------\n",
      " 训练MSE\n",
      " 0.04079059094902118 \n",
      "------\n",
      "------\n",
      " 预测MSE\n",
      " 0.25968472174738577 \n",
      "------\n",
      "\n",
      "Training until validation scores don't improve for 100 rounds\n",
      "[50]\tTrain's l2: 0.538363\tTest's l2: 0.571393\n",
      "[100]\tTrain's l2: 0.346093\tTest's l2: 0.420639\n",
      "[150]\tTrain's l2: 0.252373\tTest's l2: 0.350416\n",
      "[200]\tTrain's l2: 0.199415\tTest's l2: 0.314911\n",
      "[250]\tTrain's l2: 0.164049\tTest's l2: 0.294464\n",
      "[300]\tTrain's l2: 0.139177\tTest's l2: 0.28404\n",
      "[350]\tTrain's l2: 0.119885\tTest's l2: 0.275946\n",
      "[400]\tTrain's l2: 0.104809\tTest's l2: 0.272269\n",
      "[450]\tTrain's l2: 0.0927521\tTest's l2: 0.269017\n",
      "[500]\tTrain's l2: 0.0831424\tTest's l2: 0.267787\n",
      "[550]\tTrain's l2: 0.0750626\tTest's l2: 0.266701\n",
      "[600]\tTrain's l2: 0.0683093\tTest's l2: 0.266522\n",
      "[650]\tTrain's l2: 0.062648\tTest's l2: 0.265596\n",
      "[700]\tTrain's l2: 0.057634\tTest's l2: 0.264563\n",
      "[750]\tTrain's l2: 0.0532017\tTest's l2: 0.265032\n",
      "[800]\tTrain's l2: 0.0492351\tTest's l2: 0.265084\n",
      "Early stopping, best iteration is:\n",
      "[708]\tTrain's l2: 0.05695\tTest's l2: 0.26444\n",
      "第3折 训练和预测 训练MSE 预测MSE\n",
      "------\n",
      " 训练MSE\n",
      " 0.05694998678880694 \n",
      "------\n",
      "------\n",
      " 预测MSE\n",
      " 0.26443951549859535 \n",
      "------\n",
      "\n",
      "Training until validation scores don't improve for 100 rounds\n",
      "[50]\tTrain's l2: 0.529298\tTest's l2: 0.61696\n",
      "[100]\tTrain's l2: 0.343335\tTest's l2: 0.442868\n",
      "[150]\tTrain's l2: 0.248582\tTest's l2: 0.365449\n",
      "[200]\tTrain's l2: 0.195431\tTest's l2: 0.329523\n",
      "[250]\tTrain's l2: 0.161699\tTest's l2: 0.311873\n",
      "[300]\tTrain's l2: 0.137713\tTest's l2: 0.303348\n",
      "[350]\tTrain's l2: 0.119197\tTest's l2: 0.295898\n",
      "[400]\tTrain's l2: 0.105022\tTest's l2: 0.291142\n",
      "[450]\tTrain's l2: 0.0937249\tTest's l2: 0.288461\n",
      "[500]\tTrain's l2: 0.0843056\tTest's l2: 0.287332\n",
      "[550]\tTrain's l2: 0.0763764\tTest's l2: 0.287993\n",
      "[600]\tTrain's l2: 0.0695468\tTest's l2: 0.288483\n",
      "Early stopping, best iteration is:\n",
      "[505]\tTrain's l2: 0.08348\tTest's l2: 0.287157\n",
      "第4折 训练和预测 训练MSE 预测MSE\n",
      "------\n",
      " 训练MSE\n",
      " 0.0834800097560256 \n",
      "------\n",
      "------\n",
      " 预测MSE\n",
      " 0.2871568829117033 \n",
      "------\n",
      "\n",
      "Training until validation scores don't improve for 100 rounds\n",
      "[50]\tTrain's l2: 0.539947\tTest's l2: 0.57306\n",
      "[100]\tTrain's l2: 0.347849\tTest's l2: 0.421943\n",
      "[150]\tTrain's l2: 0.253015\tTest's l2: 0.354478\n",
      "[200]\tTrain's l2: 0.198701\tTest's l2: 0.319109\n",
      "[250]\tTrain's l2: 0.16336\tTest's l2: 0.299758\n",
      "[300]\tTrain's l2: 0.139022\tTest's l2: 0.286221\n",
      "[350]\tTrain's l2: 0.119927\tTest's l2: 0.275229\n",
      "[400]\tTrain's l2: 0.10543\tTest's l2: 0.268914\n",
      "[450]\tTrain's l2: 0.0938043\tTest's l2: 0.265093\n",
      "[500]\tTrain's l2: 0.084386\tTest's l2: 0.262087\n",
      "[550]\tTrain's l2: 0.076324\tTest's l2: 0.25964\n",
      "[600]\tTrain's l2: 0.0693018\tTest's l2: 0.257288\n",
      "[650]\tTrain's l2: 0.0636896\tTest's l2: 0.255887\n",
      "[700]\tTrain's l2: 0.0584076\tTest's l2: 0.255134\n",
      "[750]\tTrain's l2: 0.0540156\tTest's l2: 0.254234\n",
      "[800]\tTrain's l2: 0.049751\tTest's l2: 0.25354\n",
      "[850]\tTrain's l2: 0.0459333\tTest's l2: 0.253222\n",
      "[900]\tTrain's l2: 0.0425124\tTest's l2: 0.252578\n",
      "[950]\tTrain's l2: 0.0393948\tTest's l2: 0.251899\n",
      "[1000]\tTrain's l2: 0.0366401\tTest's l2: 0.2513\n",
      "[1050]\tTrain's l2: 0.0341188\tTest's l2: 0.250894\n",
      "[1100]\tTrain's l2: 0.0315511\tTest's l2: 0.2506\n",
      "[1150]\tTrain's l2: 0.0293489\tTest's l2: 0.250269\n",
      "[1200]\tTrain's l2: 0.0273803\tTest's l2: 0.249811\n",
      "[1250]\tTrain's l2: 0.0255506\tTest's l2: 0.249685\n",
      "[1300]\tTrain's l2: 0.0238175\tTest's l2: 0.249366\n",
      "[1350]\tTrain's l2: 0.0222931\tTest's l2: 0.248901\n",
      "[1400]\tTrain's l2: 0.0209525\tTest's l2: 0.248609\n",
      "[1450]\tTrain's l2: 0.019696\tTest's l2: 0.248683\n",
      "[1500]\tTrain's l2: 0.0184755\tTest's l2: 0.248713\n",
      "[1550]\tTrain's l2: 0.0173275\tTest's l2: 0.248434\n",
      "[1600]\tTrain's l2: 0.0162514\tTest's l2: 0.248375\n",
      "[1650]\tTrain's l2: 0.0152325\tTest's l2: 0.247949\n",
      "[1700]\tTrain's l2: 0.0143093\tTest's l2: 0.247527\n",
      "[1750]\tTrain's l2: 0.0134417\tTest's l2: 0.247336\n",
      "[1800]\tTrain's l2: 0.012585\tTest's l2: 0.246877\n",
      "[1850]\tTrain's l2: 0.0117845\tTest's l2: 0.246519\n",
      "[1900]\tTrain's l2: 0.011024\tTest's l2: 0.246498\n",
      "[1950]\tTrain's l2: 0.0103167\tTest's l2: 0.246519\n",
      "[2000]\tTrain's l2: 0.00966952\tTest's l2: 0.246445\n",
      "[2050]\tTrain's l2: 0.00907941\tTest's l2: 0.246216\n",
      "[2100]\tTrain's l2: 0.00852767\tTest's l2: 0.246111\n",
      "[2150]\tTrain's l2: 0.00801439\tTest's l2: 0.245773\n",
      "[2200]\tTrain's l2: 0.00754152\tTest's l2: 0.245842\n",
      "[2250]\tTrain's l2: 0.00708228\tTest's l2: 0.245718\n",
      "[2300]\tTrain's l2: 0.00665604\tTest's l2: 0.245406\n",
      "[2350]\tTrain's l2: 0.0062559\tTest's l2: 0.245135\n",
      "[2400]\tTrain's l2: 0.00587875\tTest's l2: 0.245007\n",
      "[2450]\tTrain's l2: 0.00550878\tTest's l2: 0.244883\n",
      "[2500]\tTrain's l2: 0.00518038\tTest's l2: 0.244946\n",
      "Early stopping, best iteration is:\n",
      "[2418]\tTrain's l2: 0.00573674\tTest's l2: 0.244836\n",
      "第5折 训练和预测 训练MSE 预测MSE\n",
      "------\n",
      " 训练MSE\n",
      " 0.0057367365462344 \n",
      "------\n",
      "------\n",
      " 预测MSE\n",
      " 0.24483567618315835 \n",
      "------\n",
      "\n"
     ]
    }
   ],
   "source": [
    "# 线下训练预测\n",
    "for i, (train_index, test_index) in enumerate(kf.split(train_data2_f)):\n",
    "    # lgb树模型\n",
    "    lgb_reg = lgb.LGBMRegressor(\n",
    "        learning_rate=0.01,\n",
    "        max_depth=-1,\n",
    "        n_estimators=5000,\n",
    "        boosting_type='gbdt',\n",
    "        random_state=2019,\n",
    "        objective='regression',\n",
    "    )\n",
    "    # 切分训练集和预测集\n",
    "    X_train_KFold, X_test_KFold = train_data2_f[train_index], train_data2_f[test_index]\n",
    "    y_train_KFold, y_test_KFold = train_data2_target[train_index], train_data2_target[test_index]\n",
    "    # 训练模型\n",
    "    lgb_reg.fit(X=X_train_KFold,\n",
    "                y=y_train_KFold,\n",
    "                eval_set=[(X_train_KFold, y_train_KFold),\n",
    "                          (X_test_KFold, y_test_KFold)],\n",
    "                eval_names=['Train', 'Test'],\n",
    "                early_stopping_rounds=100,\n",
    "                eval_metric='MSE',\n",
    "                verbose=50)\n",
    "\n",
    "    # 训练集预测 测试集预测\n",
    "    y_train_KFold_predict = lgb_reg.predict(\n",
    "        X_train_KFold, num_iteration=lgb_reg.best_iteration_)\n",
    "    y_test_KFold_predict = lgb_reg.predict(\n",
    "        X_test_KFold, num_iteration=lgb_reg.best_iteration_)\n",
    "\n",
    "    print('第{}折 训练和预测 训练MSE 预测MSE'.format(i + 1))\n",
    "    train_mse = mean_squared_error(y_train_KFold_predict, y_train_KFold)\n",
    "    print('------\\n', '训练MSE\\n', train_mse, '\\n------')\n",
    "    test_mse = mean_squared_error(y_test_KFold_predict, y_test_KFold)\n",
    "    print('------\\n', '预测MSE\\n', test_mse, '\\n------\\n')\n",
    "\n",
    "    MSE_DICT['train_mse'].append(train_mse)\n",
    "    MSE_DICT['test_mse'].append(test_mse)"
   ]
  },
  {
   "cell_type": "code",
   "execution_count": 24,
   "metadata": {},
   "outputs": [
    {
     "name": "stdout",
     "output_type": "stream",
     "text": [
      "------\n",
      " 训练MSE\n",
      " [0.010488074363309601, 0.04079059094902118, 0.05694998678880694, 0.0834800097560256, 0.0057367365462344] \n",
      " 0.039489079680679544 \n",
      "------\n",
      "------\n",
      " 预测MSE\n",
      " [0.23677867170871048, 0.25968472174738577, 0.26443951549859535, 0.2871568829117033, 0.24483567618315835] \n",
      " 0.25857909360991066 \n",
      "------\n"
     ]
    }
   ],
   "source": [
    "print('------\\n', '训练MSE\\n', MSE_DICT['train_mse'], '\\n',\n",
    "      np.mean(MSE_DICT['train_mse']), '\\n------')\n",
    "print('------\\n', '预测MSE\\n', MSE_DICT['test_mse'], '\\n',\n",
    "      np.mean(MSE_DICT['test_mse']), '\\n------')"
   ]
  },
  {
   "cell_type": "code",
   "execution_count": null,
   "metadata": {},
   "outputs": [],
   "source": []
  }
 ],
 "metadata": {
  "kernelspec": {
   "display_name": "Python 3",
   "language": "python",
   "name": "python3"
  },
  "language_info": {
   "codemirror_mode": {
    "name": "ipython",
    "version": 3
   },
   "file_extension": ".py",
   "mimetype": "text/x-python",
   "name": "python",
   "nbconvert_exporter": "python",
   "pygments_lexer": "ipython3",
   "version": "3.7.6"
  }
 },
 "nbformat": 4,
 "nbformat_minor": 4
}
